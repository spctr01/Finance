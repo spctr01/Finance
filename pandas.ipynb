{
  "nbformat": 4,
  "nbformat_minor": 0,
  "metadata": {
    "colab": {
      "name": "pandas.ipynb",
      "provenance": [],
      "include_colab_link": true
    },
    "kernelspec": {
      "name": "python3",
      "display_name": "Python 3"
    }
  },
  "cells": [
    {
      "cell_type": "markdown",
      "metadata": {
        "id": "view-in-github",
        "colab_type": "text"
      },
      "source": [
        "<a href=\"https://colab.research.google.com/github/spctr01/Finance/blob/master/pandas.ipynb\" target=\"_parent\"><img src=\"https://colab.research.google.com/assets/colab-badge.svg\" alt=\"Open In Colab\"/></a>"
      ]
    },
    {
      "cell_type": "code",
      "metadata": {
        "id": "VoY5sR1LW3ys",
        "colab_type": "code",
        "colab": {}
      },
      "source": [
        "import pandas as pd\n",
        "import matplotlib.pyplot as plt"
      ],
      "execution_count": 0,
      "outputs": []
    },
    {
      "cell_type": "markdown",
      "metadata": {
        "id": "u-qZYvtaaQN_",
        "colab_type": "text"
      },
      "source": [
        "# **APPLE stocks** \n",
        "2018-10-04 to 2019-10-03"
      ]
    },
    {
      "cell_type": "code",
      "metadata": {
        "id": "VThI4WTjXQIq",
        "colab_type": "code",
        "outputId": "2eace163-c33f-468c-be9a-e0431efe68b0",
        "colab": {
          "base_uri": "https://localhost:8080/",
          "height": 206
        }
      },
      "source": [
        "data = pd.read_csv('AAPL.csv')\n",
        "data.head()\n"
      ],
      "execution_count": 2,
      "outputs": [
        {
          "output_type": "execute_result",
          "data": {
            "text/html": [
              "<div>\n",
              "<style scoped>\n",
              "    .dataframe tbody tr th:only-of-type {\n",
              "        vertical-align: middle;\n",
              "    }\n",
              "\n",
              "    .dataframe tbody tr th {\n",
              "        vertical-align: top;\n",
              "    }\n",
              "\n",
              "    .dataframe thead th {\n",
              "        text-align: right;\n",
              "    }\n",
              "</style>\n",
              "<table border=\"1\" class=\"dataframe\">\n",
              "  <thead>\n",
              "    <tr style=\"text-align: right;\">\n",
              "      <th></th>\n",
              "      <th>Date</th>\n",
              "      <th>Open</th>\n",
              "      <th>High</th>\n",
              "      <th>Low</th>\n",
              "      <th>Close</th>\n",
              "      <th>Adj Close</th>\n",
              "      <th>Volume</th>\n",
              "    </tr>\n",
              "  </thead>\n",
              "  <tbody>\n",
              "    <tr>\n",
              "      <th>0</th>\n",
              "      <td>2018-10-04</td>\n",
              "      <td>230.779999</td>\n",
              "      <td>232.350006</td>\n",
              "      <td>226.729996</td>\n",
              "      <td>227.990005</td>\n",
              "      <td>224.506180</td>\n",
              "      <td>32042000</td>\n",
              "    </tr>\n",
              "    <tr>\n",
              "      <th>1</th>\n",
              "      <td>2018-10-05</td>\n",
              "      <td>227.960007</td>\n",
              "      <td>228.410004</td>\n",
              "      <td>220.580002</td>\n",
              "      <td>224.289993</td>\n",
              "      <td>220.862717</td>\n",
              "      <td>33580500</td>\n",
              "    </tr>\n",
              "    <tr>\n",
              "      <th>2</th>\n",
              "      <td>2018-10-08</td>\n",
              "      <td>222.210007</td>\n",
              "      <td>224.800003</td>\n",
              "      <td>220.199997</td>\n",
              "      <td>223.770004</td>\n",
              "      <td>220.350662</td>\n",
              "      <td>29663900</td>\n",
              "    </tr>\n",
              "    <tr>\n",
              "      <th>3</th>\n",
              "      <td>2018-10-09</td>\n",
              "      <td>223.639999</td>\n",
              "      <td>227.270004</td>\n",
              "      <td>222.250000</td>\n",
              "      <td>226.869995</td>\n",
              "      <td>223.403275</td>\n",
              "      <td>26891000</td>\n",
              "    </tr>\n",
              "    <tr>\n",
              "      <th>4</th>\n",
              "      <td>2018-10-10</td>\n",
              "      <td>225.460007</td>\n",
              "      <td>226.350006</td>\n",
              "      <td>216.050003</td>\n",
              "      <td>216.360001</td>\n",
              "      <td>213.053894</td>\n",
              "      <td>41990600</td>\n",
              "    </tr>\n",
              "  </tbody>\n",
              "</table>\n",
              "</div>"
            ],
            "text/plain": [
              "         Date        Open        High  ...       Close   Adj Close    Volume\n",
              "0  2018-10-04  230.779999  232.350006  ...  227.990005  224.506180  32042000\n",
              "1  2018-10-05  227.960007  228.410004  ...  224.289993  220.862717  33580500\n",
              "2  2018-10-08  222.210007  224.800003  ...  223.770004  220.350662  29663900\n",
              "3  2018-10-09  223.639999  227.270004  ...  226.869995  223.403275  26891000\n",
              "4  2018-10-10  225.460007  226.350006  ...  216.360001  213.053894  41990600\n",
              "\n",
              "[5 rows x 7 columns]"
            ]
          },
          "metadata": {
            "tags": []
          },
          "execution_count": 2
        }
      ]
    },
    {
      "cell_type": "code",
      "metadata": {
        "id": "8JuJuqdCXp3_",
        "colab_type": "code",
        "outputId": "ce954215-4cc2-45f2-e0f5-ae72d790a346",
        "colab": {
          "base_uri": "https://localhost:8080/",
          "height": 243
        }
      },
      "source": [
        "data.tail()"
      ],
      "execution_count": 3,
      "outputs": [
        {
          "output_type": "execute_result",
          "data": {
            "text/html": [
              "<div>\n",
              "<style scoped>\n",
              "    .dataframe tbody tr th:only-of-type {\n",
              "        vertical-align: middle;\n",
              "    }\n",
              "\n",
              "    .dataframe tbody tr th {\n",
              "        vertical-align: top;\n",
              "    }\n",
              "\n",
              "    .dataframe thead th {\n",
              "        text-align: right;\n",
              "    }\n",
              "</style>\n",
              "<table border=\"1\" class=\"dataframe\">\n",
              "  <thead>\n",
              "    <tr style=\"text-align: right;\">\n",
              "      <th></th>\n",
              "      <th>Date</th>\n",
              "      <th>Open</th>\n",
              "      <th>High</th>\n",
              "      <th>Low</th>\n",
              "      <th>Close</th>\n",
              "      <th>Adj Close</th>\n",
              "      <th>Volume</th>\n",
              "    </tr>\n",
              "  </thead>\n",
              "  <tbody>\n",
              "    <tr>\n",
              "      <th>246</th>\n",
              "      <td>2019-09-27</td>\n",
              "      <td>220.539993</td>\n",
              "      <td>220.960007</td>\n",
              "      <td>217.279999</td>\n",
              "      <td>218.820007</td>\n",
              "      <td>218.820007</td>\n",
              "      <td>25352000</td>\n",
              "    </tr>\n",
              "    <tr>\n",
              "      <th>247</th>\n",
              "      <td>2019-09-30</td>\n",
              "      <td>220.899994</td>\n",
              "      <td>224.580002</td>\n",
              "      <td>220.789993</td>\n",
              "      <td>223.970001</td>\n",
              "      <td>223.970001</td>\n",
              "      <td>25977400</td>\n",
              "    </tr>\n",
              "    <tr>\n",
              "      <th>248</th>\n",
              "      <td>2019-10-01</td>\n",
              "      <td>225.070007</td>\n",
              "      <td>228.220001</td>\n",
              "      <td>224.199997</td>\n",
              "      <td>224.589996</td>\n",
              "      <td>224.589996</td>\n",
              "      <td>34805800</td>\n",
              "    </tr>\n",
              "    <tr>\n",
              "      <th>249</th>\n",
              "      <td>2019-10-02</td>\n",
              "      <td>223.059998</td>\n",
              "      <td>223.580002</td>\n",
              "      <td>217.929993</td>\n",
              "      <td>218.960007</td>\n",
              "      <td>218.960007</td>\n",
              "      <td>34612300</td>\n",
              "    </tr>\n",
              "    <tr>\n",
              "      <th>250</th>\n",
              "      <td>2019-10-03</td>\n",
              "      <td>218.429993</td>\n",
              "      <td>220.960007</td>\n",
              "      <td>215.130005</td>\n",
              "      <td>220.820007</td>\n",
              "      <td>220.820007</td>\n",
              "      <td>28606500</td>\n",
              "    </tr>\n",
              "  </tbody>\n",
              "</table>\n",
              "</div>"
            ],
            "text/plain": [
              "           Date        Open        High  ...       Close   Adj Close    Volume\n",
              "246  2019-09-27  220.539993  220.960007  ...  218.820007  218.820007  25352000\n",
              "247  2019-09-30  220.899994  224.580002  ...  223.970001  223.970001  25977400\n",
              "248  2019-10-01  225.070007  228.220001  ...  224.589996  224.589996  34805800\n",
              "249  2019-10-02  223.059998  223.580002  ...  218.960007  218.960007  34612300\n",
              "250  2019-10-03  218.429993  220.960007  ...  220.820007  220.820007  28606500\n",
              "\n",
              "[5 rows x 7 columns]"
            ]
          },
          "metadata": {
            "tags": []
          },
          "execution_count": 3
        }
      ]
    },
    {
      "cell_type": "code",
      "metadata": {
        "id": "uJtxARf9Vcoz",
        "colab_type": "code",
        "colab": {
          "base_uri": "https://localhost:8080/",
          "height": 300
        },
        "outputId": "9fa4da57-1999-4725-ce1a-b93eeb4237f4"
      },
      "source": [
        "data.describe()"
      ],
      "execution_count": 18,
      "outputs": [
        {
          "output_type": "execute_result",
          "data": {
            "text/html": [
              "<div>\n",
              "<style scoped>\n",
              "    .dataframe tbody tr th:only-of-type {\n",
              "        vertical-align: middle;\n",
              "    }\n",
              "\n",
              "    .dataframe tbody tr th {\n",
              "        vertical-align: top;\n",
              "    }\n",
              "\n",
              "    .dataframe thead th {\n",
              "        text-align: right;\n",
              "    }\n",
              "</style>\n",
              "<table border=\"1\" class=\"dataframe\">\n",
              "  <thead>\n",
              "    <tr style=\"text-align: right;\">\n",
              "      <th></th>\n",
              "      <th>Open</th>\n",
              "      <th>High</th>\n",
              "      <th>Low</th>\n",
              "      <th>Close</th>\n",
              "      <th>Adj Close</th>\n",
              "      <th>Volume</th>\n",
              "    </tr>\n",
              "  </thead>\n",
              "  <tbody>\n",
              "    <tr>\n",
              "      <th>count</th>\n",
              "      <td>251.000000</td>\n",
              "      <td>251.000000</td>\n",
              "      <td>251.000000</td>\n",
              "      <td>251.000000</td>\n",
              "      <td>251.000000</td>\n",
              "      <td>2.510000e+02</td>\n",
              "    </tr>\n",
              "    <tr>\n",
              "      <th>mean</th>\n",
              "      <td>192.028964</td>\n",
              "      <td>194.043984</td>\n",
              "      <td>190.003546</td>\n",
              "      <td>192.046534</td>\n",
              "      <td>190.687786</td>\n",
              "      <td>3.219475e+07</td>\n",
              "    </tr>\n",
              "    <tr>\n",
              "      <th>std</th>\n",
              "      <td>20.840903</td>\n",
              "      <td>20.940929</td>\n",
              "      <td>20.690842</td>\n",
              "      <td>20.768641</td>\n",
              "      <td>20.927886</td>\n",
              "      <td>1.345679e+07</td>\n",
              "    </tr>\n",
              "    <tr>\n",
              "      <th>min</th>\n",
              "      <td>143.979996</td>\n",
              "      <td>145.720001</td>\n",
              "      <td>142.000000</td>\n",
              "      <td>142.190002</td>\n",
              "      <td>140.505798</td>\n",
              "      <td>1.136200e+07</td>\n",
              "    </tr>\n",
              "    <tr>\n",
              "      <th>25%</th>\n",
              "      <td>174.805000</td>\n",
              "      <td>175.934998</td>\n",
              "      <td>173.555000</td>\n",
              "      <td>174.794998</td>\n",
              "      <td>173.366134</td>\n",
              "      <td>2.228070e+07</td>\n",
              "    </tr>\n",
              "    <tr>\n",
              "      <th>50%</th>\n",
              "      <td>196.419998</td>\n",
              "      <td>198.850006</td>\n",
              "      <td>193.820007</td>\n",
              "      <td>197.000000</td>\n",
              "      <td>195.501465</td>\n",
              "      <td>2.890680e+07</td>\n",
              "    </tr>\n",
              "    <tr>\n",
              "      <th>75%</th>\n",
              "      <td>207.574997</td>\n",
              "      <td>209.194999</td>\n",
              "      <td>205.274994</td>\n",
              "      <td>207.610001</td>\n",
              "      <td>206.495002</td>\n",
              "      <td>3.876575e+07</td>\n",
              "    </tr>\n",
              "    <tr>\n",
              "      <th>max</th>\n",
              "      <td>230.779999</td>\n",
              "      <td>232.350006</td>\n",
              "      <td>226.729996</td>\n",
              "      <td>227.990005</td>\n",
              "      <td>224.589996</td>\n",
              "      <td>9.574460e+07</td>\n",
              "    </tr>\n",
              "  </tbody>\n",
              "</table>\n",
              "</div>"
            ],
            "text/plain": [
              "             Open        High         Low       Close   Adj Close        Volume\n",
              "count  251.000000  251.000000  251.000000  251.000000  251.000000  2.510000e+02\n",
              "mean   192.028964  194.043984  190.003546  192.046534  190.687786  3.219475e+07\n",
              "std     20.840903   20.940929   20.690842   20.768641   20.927886  1.345679e+07\n",
              "min    143.979996  145.720001  142.000000  142.190002  140.505798  1.136200e+07\n",
              "25%    174.805000  175.934998  173.555000  174.794998  173.366134  2.228070e+07\n",
              "50%    196.419998  198.850006  193.820007  197.000000  195.501465  2.890680e+07\n",
              "75%    207.574997  209.194999  205.274994  207.610001  206.495002  3.876575e+07\n",
              "max    230.779999  232.350006  226.729996  227.990005  224.589996  9.574460e+07"
            ]
          },
          "metadata": {
            "tags": []
          },
          "execution_count": 18
        }
      ]
    },
    {
      "cell_type": "code",
      "metadata": {
        "id": "ZCogAMlEYNsu",
        "colab_type": "code",
        "outputId": "3c42a519-0b9b-451b-806e-8806fb1e1609",
        "colab": {
          "base_uri": "https://localhost:8080/",
          "height": 323
        }
      },
      "source": [
        "plt.figure(figsize=(10,5))  #figsize(lenght,height)\n",
        "data['Open'].plot()\n",
        "plt.show()"
      ],
      "execution_count": 20,
      "outputs": [
        {
          "output_type": "display_data",
          "data": {
            "image/png": "[encoded data removed]",
            "text/plain": [
              "<Figure size 720x360 with 1 Axes>"
            ]
          },
          "metadata": {
            "tags": []
          }
        }
      ]
    },
    {
      "cell_type": "markdown",
      "metadata": {
        "id": "AXna1rLZe4Sb",
        "colab_type": "text"
      },
      "source": [
        "****"
      ]
    },
    {
      "cell_type": "markdown",
      "metadata": {
        "id": "ivTy7ONpfESj",
        "colab_type": "text"
      },
      "source": [
        "**pandas data by date**"
      ]
    },
    {
      "cell_type": "code",
      "metadata": {
        "id": "uI8ERIIldGsM",
        "colab_type": "code",
        "outputId": "5c435c7b-0673-476d-d154-98c50e8922ef",
        "colab": {
          "base_uri": "https://localhost:8080/",
          "height": 181
        }
      },
      "source": [
        "start= '2019-08-01'\n",
        "end= '2019-09-01'\n",
        "date = pd.date_range(start, end)\n",
        "print(date)"
      ],
      "execution_count": 10,
      "outputs": [
        {
          "output_type": "stream",
          "text": [
            "DatetimeIndex(['2019-08-01', '2019-08-02', '2019-08-03', '2019-08-04',\n",
            "               '2019-08-05', '2019-08-06', '2019-08-07', '2019-08-08',\n",
            "               '2019-08-09', '2019-08-10', '2019-08-11', '2019-08-12',\n",
            "               '2019-08-13', '2019-08-14', '2019-08-15', '2019-08-16',\n",
            "               '2019-08-17', '2019-08-18', '2019-08-19', '2019-08-20',\n",
            "               '2019-08-21', '2019-08-22', '2019-08-23', '2019-08-24',\n",
            "               '2019-08-25', '2019-08-26', '2019-08-27', '2019-08-28',\n",
            "               '2019-08-29', '2019-08-30', '2019-08-31', '2019-09-01'],\n",
            "              dtype='datetime64[ns]', freq='D')\n"
          ],
          "name": "stdout"
        }
      ]
    },
    {
      "cell_type": "markdown",
      "metadata": {
        "id": "mDNJ0INVgZ-T",
        "colab_type": "text"
      },
      "source": [
        "**Changing Index**"
      ]
    },
    {
      "cell_type": "code",
      "metadata": {
        "id": "tXMMIaJsgYrJ",
        "colab_type": "code",
        "outputId": "feaa543d-bf35-488b-81c7-03e5485d69a0",
        "colab": {
          "base_uri": "https://localhost:8080/",
          "height": 237
        }
      },
      "source": [
        "new_data= data.set_index('Date')  # while readind pd.read_csv('file', index_col='Date')\n",
        "new_data.head()\n"
      ],
      "execution_count": 4,
      "outputs": [
        {
          "output_type": "execute_result",
          "data": {
            "text/html": [
              "<div>\n",
              "<style scoped>\n",
              "    .dataframe tbody tr th:only-of-type {\n",
              "        vertical-align: middle;\n",
              "    }\n",
              "\n",
              "    .dataframe tbody tr th {\n",
              "        vertical-align: top;\n",
              "    }\n",
              "\n",
              "    .dataframe thead th {\n",
              "        text-align: right;\n",
              "    }\n",
              "</style>\n",
              "<table border=\"1\" class=\"dataframe\">\n",
              "  <thead>\n",
              "    <tr style=\"text-align: right;\">\n",
              "      <th></th>\n",
              "      <th>Open</th>\n",
              "      <th>High</th>\n",
              "      <th>Low</th>\n",
              "      <th>Close</th>\n",
              "      <th>Adj Close</th>\n",
              "      <th>Volume</th>\n",
              "    </tr>\n",
              "    <tr>\n",
              "      <th>Date</th>\n",
              "      <th></th>\n",
              "      <th></th>\n",
              "      <th></th>\n",
              "      <th></th>\n",
              "      <th></th>\n",
              "      <th></th>\n",
              "    </tr>\n",
              "  </thead>\n",
              "  <tbody>\n",
              "    <tr>\n",
              "      <th>2018-10-04</th>\n",
              "      <td>230.779999</td>\n",
              "      <td>232.350006</td>\n",
              "      <td>226.729996</td>\n",
              "      <td>227.990005</td>\n",
              "      <td>224.506180</td>\n",
              "      <td>32042000</td>\n",
              "    </tr>\n",
              "    <tr>\n",
              "      <th>2018-10-05</th>\n",
              "      <td>227.960007</td>\n",
              "      <td>228.410004</td>\n",
              "      <td>220.580002</td>\n",
              "      <td>224.289993</td>\n",
              "      <td>220.862717</td>\n",
              "      <td>33580500</td>\n",
              "    </tr>\n",
              "    <tr>\n",
              "      <th>2018-10-08</th>\n",
              "      <td>222.210007</td>\n",
              "      <td>224.800003</td>\n",
              "      <td>220.199997</td>\n",
              "      <td>223.770004</td>\n",
              "      <td>220.350662</td>\n",
              "      <td>29663900</td>\n",
              "    </tr>\n",
              "    <tr>\n",
              "      <th>2018-10-09</th>\n",
              "      <td>223.639999</td>\n",
              "      <td>227.270004</td>\n",
              "      <td>222.250000</td>\n",
              "      <td>226.869995</td>\n",
              "      <td>223.403275</td>\n",
              "      <td>26891000</td>\n",
              "    </tr>\n",
              "    <tr>\n",
              "      <th>2018-10-10</th>\n",
              "      <td>225.460007</td>\n",
              "      <td>226.350006</td>\n",
              "      <td>216.050003</td>\n",
              "      <td>216.360001</td>\n",
              "      <td>213.053894</td>\n",
              "      <td>41990600</td>\n",
              "    </tr>\n",
              "  </tbody>\n",
              "</table>\n",
              "</div>"
            ],
            "text/plain": [
              "                  Open        High  ...   Adj Close    Volume\n",
              "Date                                ...                      \n",
              "2018-10-04  230.779999  232.350006  ...  224.506180  32042000\n",
              "2018-10-05  227.960007  228.410004  ...  220.862717  33580500\n",
              "2018-10-08  222.210007  224.800003  ...  220.350662  29663900\n",
              "2018-10-09  223.639999  227.270004  ...  223.403275  26891000\n",
              "2018-10-10  225.460007  226.350006  ...  213.053894  41990600\n",
              "\n",
              "[5 rows x 6 columns]"
            ]
          },
          "metadata": {
            "tags": []
          },
          "execution_count": 4
        }
      ]
    },
    {
      "cell_type": "code",
      "metadata": {
        "id": "PWflln4kiXQf",
        "colab_type": "code",
        "outputId": "78121716-d332-43c4-9f69-905d555f4e44",
        "colab": {
          "base_uri": "https://localhost:8080/",
          "height": 396
        }
      },
      "source": [
        "start = 5\n",
        "end = 10\n",
        "df= data.loc[start:end ,['Low','Close']]\n",
        "print(df)\n",
        "df.plot()\n",
        "plt.show()"
      ],
      "execution_count": 0,
      "outputs": [
        {
          "output_type": "stream",
          "text": [
            "           Low       Close\n",
            "5   212.320007  214.449997\n",
            "6   216.839996  222.110001\n",
            "7   217.270004  217.360001\n",
            "8   216.759995  222.149994\n",
            "9   219.339996  221.190002\n",
            "10  213.000000  216.020004\n"
          ],
          "name": "stdout"
        },
        {
          "output_type": "display_data",
          "data": {
            "image/png": "[encoded data removed]",
            "text/plain": [
              "<Figure size 432x288 with 1 Axes>"
            ]
          },
          "metadata": {
            "tags": []
          }
        }
      ]
    },
    {
      "cell_type": "markdown",
      "metadata": {
        "id": "Mlncito0TARW",
        "colab_type": "text"
      },
      "source": [
        "## **Rooling statics**"
      ]
    },
    {
      "cell_type": "code",
      "metadata": {
        "id": "FPPDvYASP3AB",
        "colab_type": "code",
        "outputId": "d57df546-0e28-4519-ec02-38d3497d5223",
        "colab": {
          "base_uri": "https://localhost:8080/",
          "height": 357
        }
      },
      "source": [
        "#rolling_mean also known as moving average in trading\n",
        "plt.figure(figsize=(10,5))\n",
        "open_data = new_data['Open'].plot()\n",
        "\n",
        "rolling_mean = new_data['Open'].rolling(7).mean()     #new method old not working pd.rolling(df,window)\n",
        "rolling_mean.plot(label='roling_mean', ax=open_data)#inserting data to existing plot\n",
        "\n",
        "rolling_std = new_data['Open'].rolling(7).std()\n",
        "rolling_std.plot(label = 'r_std', ax=open_data)\n",
        "plt.show()"
      ],
      "execution_count": 41,
      "outputs": [
        {
          "output_type": "display_data",
          "data": {
            "image/png": "[encoded data removed]",
            "text/plain": [
              "<Figure size 720x360 with 1 Axes>"
            ]
          },
          "metadata": {
            "tags": []
          }
        }
      ]
    },
    {
      "cell_type": "markdown",
      "metadata": {
        "id": "erQK9rTgZTft",
        "colab_type": "text"
      },
      "source": [
        "# **boolinger bands**\n",
        "\n",
        "**std    2std above&down stm**"
      ]
    },
    {
      "cell_type": "code",
      "metadata": {
        "id": "3hvUwIyIVGiH",
        "colab_type": "code",
        "colab": {}
      },
      "source": [
        "rolling_std = new_data['Open'].rolling(7).std()\n",
        "rolling_std.plot(label = 'r_std', ax=open_data)\n",
        "plt.show()"
      ],
      "execution_count": 0,
      "outputs": []
    },
    {
      "cell_type": "code",
      "metadata": {
        "id": "Sfa90wB-P4We",
        "colab_type": "code",
        "colab": {
          "base_uri": "https://localhost:8080/",
          "height": 191
        },
        "outputId": "96e994af-642c-4850-c064-716bbf1adf8e"
      },
      "source": [
        "pd -v"
      ],
      "execution_count": 44,
      "outputs": [
        {
          "output_type": "error",
          "ename": "NameError",
          "evalue": "ignored",
          "traceback": [
            "\u001b[0;31m---------------------------------------------------------------------------\u001b[0m",
            "\u001b[0;31mNameError\u001b[0m                                 Traceback (most recent call last)",
            "\u001b[0;32m<ipython-input-44-bb78d11b01bb>\u001b[0m in \u001b[0;36m<module>\u001b[0;34m()\u001b[0m\n\u001b[0;32m----> 1\u001b[0;31m \u001b[0mpd\u001b[0m \u001b[0;34m-\u001b[0m\u001b[0mv\u001b[0m\u001b[0;34m\u001b[0m\u001b[0;34m\u001b[0m\u001b[0m\n\u001b[0m",
            "\u001b[0;31mNameError\u001b[0m: name 'v' is not defined"
          ]
        }
      ]
    }
  ]
}