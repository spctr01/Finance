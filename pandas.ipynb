{
  "nbformat": 4,
  "nbformat_minor": 0,
  "metadata": {
    "colab": {
      "name": "pandas.ipynb",
      "provenance": [],
      "include_colab_link": true
    },
    "kernelspec": {
      "name": "python3",
      "display_name": "Python 3"
    }
  },
  "cells": [
    {
      "cell_type": "markdown",
      "metadata": {
        "id": "view-in-github",
        "colab_type": "text"
      },
      "source": [
        "<a href=\"https://colab.research.google.com/github/spctr01/visualisation/blob/master/pandas.ipynb\" target=\"_parent\"><img src=\"https://colab.research.google.com/assets/colab-badge.svg\" alt=\"Open In Colab\"/></a>"
      ]
    },
    {
      "cell_type": "code",
      "metadata": {
        "id": "VoY5sR1LW3ys",
        "colab_type": "code",
        "colab": {}
      },
      "source": [
        "import pandas as pd\n",
        "import matplotlib.pyplot as plt"
      ],
      "execution_count": 0,
      "outputs": []
    },
    {
      "cell_type": "code",
      "metadata": {
        "id": "VThI4WTjXQIq",
        "colab_type": "code",
        "colab": {
          "base_uri": "https://localhost:8080/",
          "height": 206
        },
        "outputId": "6643d32b-258c-4f54-ad4d-006cfe3424b5"
      },
      "source": [
        "data = pd.read_csv('AAPL.csv')\n",
        "data.head()\n"
      ],
      "execution_count": 7,
      "outputs": [
        {
          "output_type": "execute_result",
          "data": {
            "text/html": [
              "<div>\n",
              "<style scoped>\n",
              "    .dataframe tbody tr th:only-of-type {\n",
              "        vertical-align: middle;\n",
              "    }\n",
              "\n",
              "    .dataframe tbody tr th {\n",
              "        vertical-align: top;\n",
              "    }\n",
              "\n",
              "    .dataframe thead th {\n",
              "        text-align: right;\n",
              "    }\n",
              "</style>\n",
              "<table border=\"1\" class=\"dataframe\">\n",
              "  <thead>\n",
              "    <tr style=\"text-align: right;\">\n",
              "      <th></th>\n",
              "      <th>Date</th>\n",
              "      <th>Open</th>\n",
              "      <th>High</th>\n",
              "      <th>Low</th>\n",
              "      <th>Close</th>\n",
              "      <th>Adj Close</th>\n",
              "      <th>Volume</th>\n",
              "    </tr>\n",
              "  </thead>\n",
              "  <tbody>\n",
              "    <tr>\n",
              "      <th>0</th>\n",
              "      <td>2018-10-04</td>\n",
              "      <td>230.779999</td>\n",
              "      <td>232.350006</td>\n",
              "      <td>226.729996</td>\n",
              "      <td>227.990005</td>\n",
              "      <td>224.506180</td>\n",
              "      <td>32042000</td>\n",
              "    </tr>\n",
              "    <tr>\n",
              "      <th>1</th>\n",
              "      <td>2018-10-05</td>\n",
              "      <td>227.960007</td>\n",
              "      <td>228.410004</td>\n",
              "      <td>220.580002</td>\n",
              "      <td>224.289993</td>\n",
              "      <td>220.862717</td>\n",
              "      <td>33580500</td>\n",
              "    </tr>\n",
              "    <tr>\n",
              "      <th>2</th>\n",
              "      <td>2018-10-08</td>\n",
              "      <td>222.210007</td>\n",
              "      <td>224.800003</td>\n",
              "      <td>220.199997</td>\n",
              "      <td>223.770004</td>\n",
              "      <td>220.350662</td>\n",
              "      <td>29663900</td>\n",
              "    </tr>\n",
              "    <tr>\n",
              "      <th>3</th>\n",
              "      <td>2018-10-09</td>\n",
              "      <td>223.639999</td>\n",
              "      <td>227.270004</td>\n",
              "      <td>222.250000</td>\n",
              "      <td>226.869995</td>\n",
              "      <td>223.403275</td>\n",
              "      <td>26891000</td>\n",
              "    </tr>\n",
              "    <tr>\n",
              "      <th>4</th>\n",
              "      <td>2018-10-10</td>\n",
              "      <td>225.460007</td>\n",
              "      <td>226.350006</td>\n",
              "      <td>216.050003</td>\n",
              "      <td>216.360001</td>\n",
              "      <td>213.053894</td>\n",
              "      <td>41990600</td>\n",
              "    </tr>\n",
              "  </tbody>\n",
              "</table>\n",
              "</div>"
            ],
            "text/plain": [
              "         Date        Open        High  ...       Close   Adj Close    Volume\n",
              "0  2018-10-04  230.779999  232.350006  ...  227.990005  224.506180  32042000\n",
              "1  2018-10-05  227.960007  228.410004  ...  224.289993  220.862717  33580500\n",
              "2  2018-10-08  222.210007  224.800003  ...  223.770004  220.350662  29663900\n",
              "3  2018-10-09  223.639999  227.270004  ...  226.869995  223.403275  26891000\n",
              "4  2018-10-10  225.460007  226.350006  ...  216.360001  213.053894  41990600\n",
              "\n",
              "[5 rows x 7 columns]"
            ]
          },
          "metadata": {
            "tags": []
          },
          "execution_count": 7
        }
      ]
    },
    {
      "cell_type": "code",
      "metadata": {
        "id": "8JuJuqdCXp3_",
        "colab_type": "code",
        "colab": {
          "base_uri": "https://localhost:8080/",
          "height": 206
        },
        "outputId": "98236346-c1b0-47aa-daa4-aed7f519b5bd"
      },
      "source": [
        "data.tail()"
      ],
      "execution_count": 8,
      "outputs": [
        {
          "output_type": "execute_result",
          "data": {
            "text/html": [
              "<div>\n",
              "<style scoped>\n",
              "    .dataframe tbody tr th:only-of-type {\n",
              "        vertical-align: middle;\n",
              "    }\n",
              "\n",
              "    .dataframe tbody tr th {\n",
              "        vertical-align: top;\n",
              "    }\n",
              "\n",
              "    .dataframe thead th {\n",
              "        text-align: right;\n",
              "    }\n",
              "</style>\n",
              "<table border=\"1\" class=\"dataframe\">\n",
              "  <thead>\n",
              "    <tr style=\"text-align: right;\">\n",
              "      <th></th>\n",
              "      <th>Date</th>\n",
              "      <th>Open</th>\n",
              "      <th>High</th>\n",
              "      <th>Low</th>\n",
              "      <th>Close</th>\n",
              "      <th>Adj Close</th>\n",
              "      <th>Volume</th>\n",
              "    </tr>\n",
              "  </thead>\n",
              "  <tbody>\n",
              "    <tr>\n",
              "      <th>246</th>\n",
              "      <td>2019-09-27</td>\n",
              "      <td>220.539993</td>\n",
              "      <td>220.960007</td>\n",
              "      <td>217.279999</td>\n",
              "      <td>218.820007</td>\n",
              "      <td>218.820007</td>\n",
              "      <td>25352000</td>\n",
              "    </tr>\n",
              "    <tr>\n",
              "      <th>247</th>\n",
              "      <td>2019-09-30</td>\n",
              "      <td>220.899994</td>\n",
              "      <td>224.580002</td>\n",
              "      <td>220.789993</td>\n",
              "      <td>223.970001</td>\n",
              "      <td>223.970001</td>\n",
              "      <td>25977400</td>\n",
              "    </tr>\n",
              "    <tr>\n",
              "      <th>248</th>\n",
              "      <td>2019-10-01</td>\n",
              "      <td>225.070007</td>\n",
              "      <td>228.220001</td>\n",
              "      <td>224.199997</td>\n",
              "      <td>224.589996</td>\n",
              "      <td>224.589996</td>\n",
              "      <td>34805800</td>\n",
              "    </tr>\n",
              "    <tr>\n",
              "      <th>249</th>\n",
              "      <td>2019-10-02</td>\n",
              "      <td>223.059998</td>\n",
              "      <td>223.580002</td>\n",
              "      <td>217.929993</td>\n",
              "      <td>218.960007</td>\n",
              "      <td>218.960007</td>\n",
              "      <td>34612300</td>\n",
              "    </tr>\n",
              "    <tr>\n",
              "      <th>250</th>\n",
              "      <td>2019-10-03</td>\n",
              "      <td>218.429993</td>\n",
              "      <td>220.960007</td>\n",
              "      <td>215.130005</td>\n",
              "      <td>220.820007</td>\n",
              "      <td>220.820007</td>\n",
              "      <td>28606500</td>\n",
              "    </tr>\n",
              "  </tbody>\n",
              "</table>\n",
              "</div>"
            ],
            "text/plain": [
              "           Date        Open        High  ...       Close   Adj Close    Volume\n",
              "246  2019-09-27  220.539993  220.960007  ...  218.820007  218.820007  25352000\n",
              "247  2019-09-30  220.899994  224.580002  ...  223.970001  223.970001  25977400\n",
              "248  2019-10-01  225.070007  228.220001  ...  224.589996  224.589996  34805800\n",
              "249  2019-10-02  223.059998  223.580002  ...  218.960007  218.960007  34612300\n",
              "250  2019-10-03  218.429993  220.960007  ...  220.820007  220.820007  28606500\n",
              "\n",
              "[5 rows x 7 columns]"
            ]
          },
          "metadata": {
            "tags": []
          },
          "execution_count": 8
        }
      ]
    },
    {
      "cell_type": "code",
      "metadata": {
        "id": "ZCogAMlEYNsu",
        "colab_type": "code",
        "colab": {
          "base_uri": "https://localhost:8080/",
          "height": 323
        },
        "outputId": "c15c47a0-21a9-4308-878e-57df1c7b6f1c"
      },
      "source": [
        "plt.figure(figsize=(10,5))  #figsize(lenght,height)\n",
        "data['Open'].plot()\n",
        "plt.show()"
      ],
      "execution_count": 43,
      "outputs": [
        {
          "output_type": "display_data",
          "data": {
            "image/png": "[encoded data removed]",
            "text/plain": [
              "<Figure size 720x360 with 1 Axes>"
            ]
          },
          "metadata": {
            "tags": []
          }
        }
      ]
    },
    {
      "cell_type": "markdown",
      "metadata": {
        "id": "AXna1rLZe4Sb",
        "colab_type": "text"
      },
      "source": [
        "****"
      ]
    },
    {
      "cell_type": "markdown",
      "metadata": {
        "id": "ivTy7ONpfESj",
        "colab_type": "text"
      },
      "source": [
        "**pandas data by date**"
      ]
    },
    {
      "cell_type": "code",
      "metadata": {
        "id": "uI8ERIIldGsM",
        "colab_type": "code",
        "colab": {
          "base_uri": "https://localhost:8080/",
          "height": 182
        },
        "outputId": "1701faa0-90cb-44d3-e971-a9655e01f8ff"
      },
      "source": [
        "start= '2019-08-01'\n",
        "end= '2019-09-01'\n",
        "date = pd.date_range(start, end)\n",
        "print(date)"
      ],
      "execution_count": 41,
      "outputs": [
        {
          "output_type": "stream",
          "text": [
            "DatetimeIndex(['2019-08-01', '2019-08-02', '2019-08-03', '2019-08-04',\n",
            "               '2019-08-05', '2019-08-06', '2019-08-07', '2019-08-08',\n",
            "               '2019-08-09', '2019-08-10', '2019-08-11', '2019-08-12',\n",
            "               '2019-08-13', '2019-08-14', '2019-08-15', '2019-08-16',\n",
            "               '2019-08-17', '2019-08-18', '2019-08-19', '2019-08-20',\n",
            "               '2019-08-21', '2019-08-22', '2019-08-23', '2019-08-24',\n",
            "               '2019-08-25', '2019-08-26', '2019-08-27', '2019-08-28',\n",
            "               '2019-08-29', '2019-08-30', '2019-08-31', '2019-09-01'],\n",
            "              dtype='datetime64[ns]', freq='D')\n"
          ],
          "name": "stdout"
        }
      ]
    },
    {
      "cell_type": "markdown",
      "metadata": {
        "id": "mDNJ0INVgZ-T",
        "colab_type": "text"
      },
      "source": [
        "**Changing Index**"
      ]
    },
    {
      "cell_type": "code",
      "metadata": {
        "id": "tXMMIaJsgYrJ",
        "colab_type": "code",
        "colab": {
          "base_uri": "https://localhost:8080/",
          "height": 238
        },
        "outputId": "4632cbc8-6669-4add-afcc-f1697ffa7f7e"
      },
      "source": [
        "new_data= data.set_index('Date')\n",
        "new_data.head()\n"
      ],
      "execution_count": 49,
      "outputs": [
        {
          "output_type": "execute_result",
          "data": {
            "text/html": [
              "<div>\n",
              "<style scoped>\n",
              "    .dataframe tbody tr th:only-of-type {\n",
              "        vertical-align: middle;\n",
              "    }\n",
              "\n",
              "    .dataframe tbody tr th {\n",
              "        vertical-align: top;\n",
              "    }\n",
              "\n",
              "    .dataframe thead th {\n",
              "        text-align: right;\n",
              "    }\n",
              "</style>\n",
              "<table border=\"1\" class=\"dataframe\">\n",
              "  <thead>\n",
              "    <tr style=\"text-align: right;\">\n",
              "      <th></th>\n",
              "      <th>Open</th>\n",
              "      <th>High</th>\n",
              "      <th>Low</th>\n",
              "      <th>Close</th>\n",
              "      <th>Adj Close</th>\n",
              "      <th>Volume</th>\n",
              "    </tr>\n",
              "    <tr>\n",
              "      <th>Date</th>\n",
              "      <th></th>\n",
              "      <th></th>\n",
              "      <th></th>\n",
              "      <th></th>\n",
              "      <th></th>\n",
              "      <th></th>\n",
              "    </tr>\n",
              "  </thead>\n",
              "  <tbody>\n",
              "    <tr>\n",
              "      <th>2018-10-04</th>\n",
              "      <td>230.779999</td>\n",
              "      <td>232.350006</td>\n",
              "      <td>226.729996</td>\n",
              "      <td>227.990005</td>\n",
              "      <td>224.506180</td>\n",
              "      <td>32042000</td>\n",
              "    </tr>\n",
              "    <tr>\n",
              "      <th>2018-10-05</th>\n",
              "      <td>227.960007</td>\n",
              "      <td>228.410004</td>\n",
              "      <td>220.580002</td>\n",
              "      <td>224.289993</td>\n",
              "      <td>220.862717</td>\n",
              "      <td>33580500</td>\n",
              "    </tr>\n",
              "    <tr>\n",
              "      <th>2018-10-08</th>\n",
              "      <td>222.210007</td>\n",
              "      <td>224.800003</td>\n",
              "      <td>220.199997</td>\n",
              "      <td>223.770004</td>\n",
              "      <td>220.350662</td>\n",
              "      <td>29663900</td>\n",
              "    </tr>\n",
              "    <tr>\n",
              "      <th>2018-10-09</th>\n",
              "      <td>223.639999</td>\n",
              "      <td>227.270004</td>\n",
              "      <td>222.250000</td>\n",
              "      <td>226.869995</td>\n",
              "      <td>223.403275</td>\n",
              "      <td>26891000</td>\n",
              "    </tr>\n",
              "    <tr>\n",
              "      <th>2018-10-10</th>\n",
              "      <td>225.460007</td>\n",
              "      <td>226.350006</td>\n",
              "      <td>216.050003</td>\n",
              "      <td>216.360001</td>\n",
              "      <td>213.053894</td>\n",
              "      <td>41990600</td>\n",
              "    </tr>\n",
              "  </tbody>\n",
              "</table>\n",
              "</div>"
            ],
            "text/plain": [
              "                  Open        High  ...   Adj Close    Volume\n",
              "Date                                ...                      \n",
              "2018-10-04  230.779999  232.350006  ...  224.506180  32042000\n",
              "2018-10-05  227.960007  228.410004  ...  220.862717  33580500\n",
              "2018-10-08  222.210007  224.800003  ...  220.350662  29663900\n",
              "2018-10-09  223.639999  227.270004  ...  223.403275  26891000\n",
              "2018-10-10  225.460007  226.350006  ...  213.053894  41990600\n",
              "\n",
              "[5 rows x 6 columns]"
            ]
          },
          "metadata": {
            "tags": []
          },
          "execution_count": 49
        }
      ]
    },
    {
      "cell_type": "code",
      "metadata": {
        "id": "PWflln4kiXQf",
        "colab_type": "code",
        "colab": {}
      },
      "source": [
        "plt.figure(figsize=(10,5))  #figsize(lenght,height)\n",
        "new_data['Open'].plot()\n",
        "plt.show()"
      ],
      "execution_count": 0,
      "outputs": []
    }
  ]
}